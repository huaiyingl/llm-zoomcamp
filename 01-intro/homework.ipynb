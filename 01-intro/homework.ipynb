{
 "cells": [
  {
   "cell_type": "code",
   "execution_count": null,
   "id": "94ab20a9-68e6-485a-844d-5e57b09be1d8",
   "metadata": {},
   "outputs": [],
   "source": [
    "import openai"
   ]
  },
  {
   "cell_type": "code",
   "execution_count": 25,
   "id": "7a980d25-babe-4c81-8973-dedc326de0ec",
   "metadata": {},
   "outputs": [],
   "source": [
    "from openai import OpenAI"
   ]
  },
  {
   "cell_type": "code",
   "execution_count": null,
   "id": "80ae25dd-42c5-4c89-898d-fb59aa056fa1",
   "metadata": {},
   "outputs": [],
   "source": [
    "client = OpenAI()"
   ]
  },
  {
   "cell_type": "code",
   "execution_count": 27,
   "id": "1bcdb317-147e-4ed4-8efd-363b7e9cb9eb",
   "metadata": {},
   "outputs": [],
   "source": [
    "import os\n",
    "# os.environ"
   ]
  },
  {
   "cell_type": "code",
   "execution_count": 30,
   "id": "da90a4f7-22ca-496d-849f-2ed24e99aa3d",
   "metadata": {},
   "outputs": [],
   "source": [
    "response = client.chat.completions.create(\n",
    "    model=\"gpt-4o-mini\",\n",
    "    messages=[{\"role\": \"user\", \"content\": \"is it too late to join the course?\"}],\n",
    "    max_tokens=50  # Reduce token usage\n",
    ")"
   ]
  },
  {
   "cell_type": "code",
   "execution_count": 33,
   "id": "ed011ea1-52ca-4ae0-8788-9ded6c603418",
   "metadata": {},
   "outputs": [
    {
     "data": {
      "text/plain": [
       "\"It depends on the specific course you are referring to. Some courses have flexible enrollment periods, while others may have strict deadlines. I recommend checking the course's official website or contacting the course administrator for the most accurate information regarding enrollment.\""
      ]
     },
     "execution_count": 33,
     "metadata": {},
     "output_type": "execute_result"
    }
   ],
   "source": [
    "response.choices[0].message.content"
   ]
  },
  {
   "cell_type": "code",
   "execution_count": null,
   "id": "c933445f-0862-4d47-8144-17e73d35e29d",
   "metadata": {},
   "outputs": [],
   "source": []
  }
 ],
 "metadata": {
  "kernelspec": {
   "display_name": "Python 3 (ipykernel)",
   "language": "python",
   "name": "python3"
  },
  "language_info": {
   "codemirror_mode": {
    "name": "ipython",
    "version": 3
   },
   "file_extension": ".py",
   "mimetype": "text/x-python",
   "name": "python",
   "nbconvert_exporter": "python",
   "pygments_lexer": "ipython3",
   "version": "3.12.1"
  }
 },
 "nbformat": 4,
 "nbformat_minor": 5
}
